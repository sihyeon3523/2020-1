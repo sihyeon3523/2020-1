{
 "cells": [
  {
   "cell_type": "code",
   "execution_count": 2,
   "metadata": {},
   "outputs": [],
   "source": [
    "from sklearn.datasets import load_iris\n",
    "from sklearn.tree import DecisionTreeClassifier"
   ]
  },
  {
   "cell_type": "code",
   "execution_count": 3,
   "metadata": {},
   "outputs": [],
   "source": [
    "iris = load_iris()"
   ]
  },
  {
   "cell_type": "code",
   "execution_count": 4,
   "metadata": {},
   "outputs": [],
   "source": [
    "X = iris.data[:,2:] # 꽃잎의 길이와 너비"
   ]
  },
  {
   "cell_type": "code",
   "execution_count": 5,
   "metadata": {},
   "outputs": [],
   "source": [
    "y = iris.target"
   ]
  },
  {
   "cell_type": "code",
   "execution_count": 6,
   "metadata": {},
   "outputs": [],
   "source": [
    "tree_clf=DecisionTreeClassifier(max_depth=2) \n",
    "# max_depth=2: 최고로 할 수 있는 split이 2번 "
   ]
  },
  {
   "cell_type": "code",
   "execution_count": 7,
   "metadata": {
    "scrolled": true
   },
   "outputs": [
    {
     "data": {
      "text/plain": [
       "DecisionTreeClassifier(class_weight=None, criterion='gini', max_depth=2,\n",
       "            max_features=None, max_leaf_nodes=None,\n",
       "            min_impurity_decrease=0.0, min_impurity_split=None,\n",
       "            min_samples_leaf=1, min_samples_split=2,\n",
       "            min_weight_fraction_leaf=0.0, presort=False, random_state=None,\n",
       "            splitter='best')"
      ]
     },
     "execution_count": 7,
     "metadata": {},
     "output_type": "execute_result"
    }
   ],
   "source": [
    "tree_clf.fit(X,y)"
   ]
  },
  {
   "cell_type": "markdown",
   "metadata": {},
   "source": [
    "### Decision Tree 장점 \n",
    "\n",
    "- 해석이 편하다! 각 노드의 기준이 나와있기 때문에 노드별로 해석이 가능하다. \n",
    "- 데이터 표준화가 필요가 없다 \n",
    "- 범주형 데이터의 변환이 따로 필요 없다\n",
    "- missing data가 있어도 처리가 가능하다. "
   ]
  },
  {
   "cell_type": "markdown",
   "metadata": {},
   "source": [
    "### Decision Tree 단점\n",
    "- 값이 하나가 바뀌거나 제거하게 되면 모델의 형태가 완전히 달라지게 된다. \n",
    "- decision tree는 huristic 방법(직관적인 방법, 시행착오를 겪고 나서 지식을 얻고 이를 발전시키는 방식)\n",
    "- 이러한 단점을 해결하기 위해서 제안된 방법이 앙상블 학습과 랜덤 포레스트! "
   ]
  },
  {
   "cell_type": "code",
   "execution_count": 8,
   "metadata": {},
   "outputs": [
    {
     "data": {
      "text/plain": [
       "array([[0.        , 0.90740741, 0.09259259]])"
      ]
     },
     "execution_count": 8,
     "metadata": {},
     "output_type": "execute_result"
    }
   ],
   "source": [
    "tree_clf.predict_proba([[5,1.5]]) # 어느 클래스에 속할지 확률 값으로 알 수 있음 "
   ]
  },
  {
   "cell_type": "code",
   "execution_count": 13,
   "metadata": {},
   "outputs": [
    {
     "data": {
      "text/plain": [
       "array(['setosa', 'versicolor', 'virginica'], dtype='<U10')"
      ]
     },
     "execution_count": 13,
     "metadata": {},
     "output_type": "execute_result"
    }
   ],
   "source": [
    "iris.target_names"
   ]
  },
  {
   "cell_type": "code",
   "execution_count": 15,
   "metadata": {},
   "outputs": [],
   "source": [
    "# 조별 프로젝트 (6월 23일 온라인)\n",
    "# 개별점수 -> 2~3개 정도의 질문 \n",
    "# 조별점수 -> 보고서 내용 \n",
    "# 프로젝트\n",
    "# 쪽번호, 그림제목, 표제목..꼭 적기 \n",
    "# 그림제목 -> 그림 밑에\n",
    "# 표 제목 -> 표 위에"
   ]
  },
  {
   "cell_type": "code",
   "execution_count": 16,
   "metadata": {},
   "outputs": [],
   "source": [
    "# 그림이나 표는 반드시 본문에서 인용 \n",
    "# 예) <표1> 에서 알 수 있듯이...\n",
    "# 그림이나 표는 반드시 출처를 밝혀야..\n",
    "# 논문이나 보고서 인용하면 반드시 끝에 레퍼런스 제공 "
   ]
  },
  {
   "cell_type": "markdown",
   "metadata": {},
   "source": [
    "# 숙제 \n",
    "- 교재 239p 의 연습문제 7(a-d),8번 \n",
    "- 사이트에 가면 답이 있음 (코드 직접 돌려보기)\n",
    "- 코드를 적고나서 인사이트를 적어라 "
   ]
  },
  {
   "cell_type": "markdown",
   "metadata": {},
   "source": [
    "# 기말고사\n",
    "- 대면 \n",
    "- 진도 : 앙상블 학습 전까지 (2장,3장,4장,6장)\n",
    "- 코딩이나 문제 푸는 내지 않는다. \n",
    "- 시험 전시간에 SUMMARY 해주겠다. \n",
    "- 예를 들어, bias 가 뭐고 var가 뭐냐 둘의 tradeoff가 뭐냐\n",
    "- 확률적 경사하강법에서 수렴요인이 뭐냐\n",
    "- 이런 건 어떨 때 쓰ㅇ"
   ]
  },
  {
   "cell_type": "code",
   "execution_count": null,
   "metadata": {},
   "outputs": [],
   "source": []
  }
 ],
 "metadata": {
  "kernelspec": {
   "display_name": "Python 3",
   "language": "python",
   "name": "python3"
  },
  "language_info": {
   "codemirror_mode": {
    "name": "ipython",
    "version": 3
   },
   "file_extension": ".py",
   "mimetype": "text/x-python",
   "name": "python",
   "nbconvert_exporter": "python",
   "pygments_lexer": "ipython3",
   "version": "3.7.7"
  }
 },
 "nbformat": 4,
 "nbformat_minor": 2
}
