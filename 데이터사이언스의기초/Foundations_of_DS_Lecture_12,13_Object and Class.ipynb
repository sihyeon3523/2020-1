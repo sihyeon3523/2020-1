{
 "cells": [
  {
   "cell_type": "markdown",
   "metadata": {},
   "source": [
    "object에는 property(variable)과 behavior(method(function)) 을 갖고 있음 <br>\n",
    "자전거가 한대 있는데 이것의 색은 파란색(property)이고 뒤로는 못가고 앞으로만(function) 갈 수 있다 <br>\n",
    "다른 자전거 한대는 오른쪽으로만 틀 수 있고 빨간색이다. "
   ]
  },
  {
   "cell_type": "markdown",
   "metadata": {},
   "source": [
    "class 에는 var도 있고, function도 있다. "
   ]
  },
  {
   "cell_type": "markdown",
   "metadata": {},
   "source": [
    "## Property of an object"
   ]
  },
  {
   "cell_type": "markdown",
   "metadata": {},
   "source": [
    "- property\n",
    "- structure object_name.var_name = value"
   ]
  },
  {
   "cell_type": "code",
   "execution_count": 18,
   "metadata": {},
   "outputs": [],
   "source": [
    "class Bicycle:\n",
    "    pass"
   ]
  },
  {
   "cell_type": "code",
   "execution_count": 3,
   "metadata": {},
   "outputs": [],
   "source": [
    "my_bicycle = Bicycle() # create an object: my_bicycle"
   ]
  },
  {
   "cell_type": "code",
   "execution_count": 4,
   "metadata": {},
   "outputs": [],
   "source": [
    "# define a properties of the object(my_bicycle)\n",
    "my_bicycle.size=20 # variable of 'size'\n",
    "my_bicycle.color='blue' # variable of 'color'"
   ]
  },
  {
   "cell_type": "code",
   "execution_count": 7,
   "metadata": {},
   "outputs": [
    {
     "data": {
      "text/plain": [
       "20"
      ]
     },
     "execution_count": 7,
     "metadata": {},
     "output_type": "execute_result"
    }
   ],
   "source": [
    "my_bicycle.size # variable of the object, not a variable of class "
   ]
  },
  {
   "cell_type": "code",
   "execution_count": 8,
   "metadata": {},
   "outputs": [],
   "source": [
    "my_bicycle_1 = Bicycle() # create an object: my_bicycle_1"
   ]
  },
  {
   "cell_type": "code",
   "execution_count": 10,
   "metadata": {},
   "outputs": [],
   "source": [
    "my_bicycle_1.size = 25\n",
    "my_bicycle_1.color = 'red'"
   ]
  },
  {
   "cell_type": "code",
   "execution_count": 11,
   "metadata": {},
   "outputs": [
    {
     "data": {
      "text/plain": [
       "25"
      ]
     },
     "execution_count": 11,
     "metadata": {},
     "output_type": "execute_result"
    }
   ],
   "source": [
    "my_bicycle_1.size"
   ]
  },
  {
   "cell_type": "code",
   "execution_count": 5,
   "metadata": {},
   "outputs": [
    {
     "name": "stdout",
     "output_type": "stream",
     "text": [
      "size of my_bicycle: 20\n"
     ]
    }
   ],
   "source": [
    "print('size of my_bicycle:',my_bicycle.size)"
   ]
  },
  {
   "cell_type": "code",
   "execution_count": 6,
   "metadata": {},
   "outputs": [
    {
     "name": "stdout",
     "output_type": "stream",
     "text": [
      "color of my_bicycle: blue\n"
     ]
    }
   ],
   "source": [
    "print('color of my_bicycle:',my_bicycle.color)"
   ]
  },
  {
   "cell_type": "code",
   "execution_count": 12,
   "metadata": {},
   "outputs": [
    {
     "name": "stdout",
     "output_type": "stream",
     "text": [
      "size of my_bicycle: 25\n"
     ]
    }
   ],
   "source": [
    "print('size of my_bicycle:',my_bicycle_1.size)"
   ]
  },
  {
   "cell_type": "code",
   "execution_count": 13,
   "metadata": {},
   "outputs": [
    {
     "name": "stdout",
     "output_type": "stream",
     "text": [
      "color of my_bicycle: red\n"
     ]
    }
   ],
   "source": [
    "print('color of my_bicycle:',my_bicycle_1.color)"
   ]
  },
  {
   "cell_type": "markdown",
   "metadata": {},
   "source": [
    "## Behavior of an object"
   ]
  },
  {
   "cell_type": "markdown",
   "metadata": {},
   "source": [
    "- function or method\n",
    "- structure object_name.var_name = value"
   ]
  },
  {
   "cell_type": "code",
   "execution_count": 34,
   "metadata": {},
   "outputs": [],
   "source": [
    "class Bicycle:\n",
    "    def move(my_self,speed): # object.variable of a function\n",
    "        print('Speed of my bicycle: {}'.format(speed))\n",
    "    def turn(my_self,direction):\n",
    "        print('Direction of my bicycle: {}'.format(direction))\n",
    "    def stop(my_self):\n",
    "        print('bicycle: ({0},{1}): stop'.format(my_self.size, my_self.color))"
   ]
  },
  {
   "cell_type": "code",
   "execution_count": 35,
   "metadata": {},
   "outputs": [],
   "source": [
    "my_bicycle1=Bicycle()"
   ]
  },
  {
   "cell_type": "code",
   "execution_count": 30,
   "metadata": {},
   "outputs": [
    {
     "name": "stdout",
     "output_type": "stream",
     "text": [
      "Speed of my bicycle: 100\n"
     ]
    }
   ],
   "source": [
    "my_bicycle1.move(100) # varialbe is speed and you need to assign a value of the variable"
   ]
  },
  {
   "cell_type": "code",
   "execution_count": 31,
   "metadata": {},
   "outputs": [
    {
     "name": "stdout",
     "output_type": "stream",
     "text": [
      "Direction of my bicycle: left\n"
     ]
    }
   ],
   "source": [
    "my_bicycle1.turn('left')"
   ]
  },
  {
   "cell_type": "code",
   "execution_count": 36,
   "metadata": {},
   "outputs": [
    {
     "name": "stdout",
     "output_type": "stream",
     "text": [
      "bicycle: (30,black): stop\n"
     ]
    }
   ],
   "source": [
    "my_bicycle1.size=30\n",
    "my_bicycle1.color='black'\n",
    "my_bicycle1.stop()"
   ]
  },
  {
   "cell_type": "markdown",
   "metadata": {},
   "source": [
    "## initializaion"
   ]
  },
  {
   "cell_type": "code",
   "execution_count": 37,
   "metadata": {},
   "outputs": [],
   "source": [
    "# generate an object: my_bicycle1\n",
    "# define a variable of the generated object: size, color"
   ]
  },
  {
   "cell_type": "code",
   "execution_count": 38,
   "metadata": {},
   "outputs": [],
   "source": [
    "# you can define the variable in the class"
   ]
  },
  {
   "cell_type": "code",
   "execution_count": 41,
   "metadata": {},
   "outputs": [],
   "source": [
    "class Bicycle:\n",
    "    def __init__(my_self,size,color): \n",
    "        # 처음 오브젝트를 생성할 때, 이 size와 color값도 같이 지정을 해줘야 한다. \n",
    "        my_self.size=size\n",
    "        my_self.color=color\n",
    "    def move(my_self,speed): # object.variable of a function\n",
    "        print('Speed of my bicycle: {}'.format(speed))\n",
    "    def turn(my_self,direction):\n",
    "        print('Direction of my bicycle: {}'.format(direction))\n",
    "    def stop(my_self):\n",
    "        print('bicycle: ({0},{1}): stop'.format(my_self.size, my_self.color))"
   ]
  },
  {
   "cell_type": "code",
   "execution_count": 42,
   "metadata": {},
   "outputs": [],
   "source": [
    "new_bicycle=Bicycle(size=30,color='White')"
   ]
  },
  {
   "cell_type": "code",
   "execution_count": 43,
   "metadata": {},
   "outputs": [
    {
     "data": {
      "text/plain": [
       "30"
      ]
     },
     "execution_count": 43,
     "metadata": {},
     "output_type": "execute_result"
    }
   ],
   "source": [
    "new_bicycle.size"
   ]
  },
  {
   "cell_type": "code",
   "execution_count": 44,
   "metadata": {},
   "outputs": [
    {
     "name": "stdout",
     "output_type": "stream",
     "text": [
      "bicycle: (30,White): stop\n"
     ]
    }
   ],
   "source": [
    "new_bicycle.stop()"
   ]
  },
  {
   "cell_type": "markdown",
   "metadata": {},
   "source": [
    "## Exercise "
   ]
  },
  {
   "cell_type": "code",
   "execution_count": 63,
   "metadata": {},
   "outputs": [],
   "source": [
    "#color, size\n",
    "class Dog:\n",
    "    def __init__(self,color,size): # self 는 오브젝트를 의미\n",
    "        # initiate the attribute of a object (not the attribute of class)\n",
    "        self.color=color\n",
    "        self.size=size\n",
    "    def move(self,speed):\n",
    "        print('My dog is very {}.'.format(speed))   "
   ]
  },
  {
   "cell_type": "code",
   "execution_count": 64,
   "metadata": {},
   "outputs": [],
   "source": [
    "my_dog=Dog(color='white',size='small')"
   ]
  },
  {
   "cell_type": "code",
   "execution_count": 57,
   "metadata": {},
   "outputs": [
    {
     "data": {
      "text/plain": [
       "'white'"
      ]
     },
     "execution_count": 57,
     "metadata": {},
     "output_type": "execute_result"
    }
   ],
   "source": [
    "my_dog.color"
   ]
  },
  {
   "cell_type": "code",
   "execution_count": 58,
   "metadata": {},
   "outputs": [
    {
     "data": {
      "text/plain": [
       "'small'"
      ]
     },
     "execution_count": 58,
     "metadata": {},
     "output_type": "execute_result"
    }
   ],
   "source": [
    "my_dog.size"
   ]
  },
  {
   "cell_type": "code",
   "execution_count": 65,
   "metadata": {},
   "outputs": [
    {
     "name": "stdout",
     "output_type": "stream",
     "text": [
      "My dog is very fast.\n"
     ]
    }
   ],
   "source": [
    "my_dog.move('fast')"
   ]
  },
  {
   "cell_type": "markdown",
   "metadata": {},
   "source": [
    "## class attribute(mon)"
   ]
  },
  {
   "cell_type": "markdown",
   "metadata": {},
   "source": [
    "## method: instance, class, static(mon)"
   ]
  },
  {
   "cell_type": "markdown",
   "metadata": {},
   "source": [
    "## subclass(wed)"
   ]
  },
  {
   "cell_type": "markdown",
   "metadata": {},
   "source": [
    "수요일 수업 포함 중간고사"
   ]
  },
  {
   "cell_type": "markdown",
   "metadata": {},
   "source": [
    "class => frame of cookie \n",
    "\n",
    "instance of class => object (infinite)= cookie\n",
    "\n",
    "## object \n",
    "- variable : property of obj\n",
    "- method(function) : behaviour of obj"
   ]
  },
  {
   "cell_type": "markdown",
   "metadata": {},
   "source": [
    "## instance variable vs class variable "
   ]
  },
  {
   "cell_type": "markdown",
   "metadata": {},
   "source": [
    "### instance_variable \n",
    "- scope = a single object \n",
    "- self.var_name =value"
   ]
  },
  {
   "cell_type": "markdown",
   "metadata": {},
   "source": [
    "### class_variable \n",
    "- scope = all the objects\n",
    "- var_name=value(We do not use 'self' parameter)"
   ]
  },
  {
   "cell_type": "code",
   "execution_count": 5,
   "metadata": {},
   "outputs": [],
   "source": [
    "class Dog: \n",
    "    kind = 'canine'      # class variable shared by all instances \n",
    "    \n",
    "    def __init__(self,name):\n",
    "        self.name = name # instance variable unique to each instance "
   ]
  },
  {
   "cell_type": "code",
   "execution_count": 6,
   "metadata": {},
   "outputs": [],
   "source": [
    "d = Dog('Fido') # Fido = instance variable \n",
    "e = Dog('Buddy')"
   ]
  },
  {
   "cell_type": "code",
   "execution_count": 12,
   "metadata": {},
   "outputs": [
    {
     "data": {
      "text/plain": [
       "'canine'"
      ]
     },
     "execution_count": 12,
     "metadata": {},
     "output_type": "execute_result"
    }
   ],
   "source": [
    "Dog.kind"
   ]
  },
  {
   "cell_type": "code",
   "execution_count": 7,
   "metadata": {},
   "outputs": [
    {
     "data": {
      "text/plain": [
       "'canine'"
      ]
     },
     "execution_count": 7,
     "metadata": {},
     "output_type": "execute_result"
    }
   ],
   "source": [
    "d.kind          # shared by all dogs"
   ]
  },
  {
   "cell_type": "code",
   "execution_count": 8,
   "metadata": {},
   "outputs": [
    {
     "data": {
      "text/plain": [
       "'canine'"
      ]
     },
     "execution_count": 8,
     "metadata": {},
     "output_type": "execute_result"
    }
   ],
   "source": [
    "e.kind          # shared by all dogs"
   ]
  },
  {
   "cell_type": "code",
   "execution_count": 9,
   "metadata": {},
   "outputs": [
    {
     "data": {
      "text/plain": [
       "'Fido'"
      ]
     },
     "execution_count": 9,
     "metadata": {},
     "output_type": "execute_result"
    }
   ],
   "source": [
    "d.name # unique to d"
   ]
  },
  {
   "cell_type": "code",
   "execution_count": 10,
   "metadata": {},
   "outputs": [
    {
     "data": {
      "text/plain": [
       "'Buddy'"
      ]
     },
     "execution_count": 10,
     "metadata": {},
     "output_type": "execute_result"
    }
   ],
   "source": [
    "e.name # unique to e"
   ]
  },
  {
   "cell_type": "markdown",
   "metadata": {},
   "source": [
    "each instance has different values of the instance variable "
   ]
  },
  {
   "cell_type": "markdown",
   "metadata": {},
   "source": [
    "1. class_name.class_var\n",
    "2. instance_name.class_var (all the instances from same class have the same value of class var)\n",
    "3. instance_name.instance_var"
   ]
  },
  {
   "cell_type": "markdown",
   "metadata": {},
   "source": [
    "### How to update the value of class variable "
   ]
  },
  {
   "cell_type": "code",
   "execution_count": 14,
   "metadata": {},
   "outputs": [],
   "source": [
    "Dog.kind = 'CANINE'"
   ]
  },
  {
   "cell_type": "code",
   "execution_count": 16,
   "metadata": {},
   "outputs": [
    {
     "data": {
      "text/plain": [
       "'CANINE'"
      ]
     },
     "execution_count": 16,
     "metadata": {},
     "output_type": "execute_result"
    }
   ],
   "source": [
    "Dog.kind # shared by all the instance "
   ]
  },
  {
   "cell_type": "code",
   "execution_count": 18,
   "metadata": {},
   "outputs": [
    {
     "data": {
      "text/plain": [
       "'CANINE'"
      ]
     },
     "execution_count": 18,
     "metadata": {},
     "output_type": "execute_result"
    }
   ],
   "source": [
    "d.kind # updated"
   ]
  },
  {
   "cell_type": "code",
   "execution_count": 15,
   "metadata": {},
   "outputs": [],
   "source": [
    "f = Dog('Rockie')"
   ]
  },
  {
   "cell_type": "code",
   "execution_count": 17,
   "metadata": {},
   "outputs": [
    {
     "data": {
      "text/plain": [
       "'CANINE'"
      ]
     },
     "execution_count": 17,
     "metadata": {},
     "output_type": "execute_result"
    }
   ],
   "source": [
    "f.kind"
   ]
  },
  {
   "cell_type": "markdown",
   "metadata": {},
   "source": [
    "### Updating the value of class var in the code block"
   ]
  },
  {
   "cell_type": "code",
   "execution_count": 19,
   "metadata": {},
   "outputs": [],
   "source": [
    "class Dog: \n",
    "    kind = 'canine'      # class variable shared by all instances \n",
    "    \n",
    "    def __init__(self,name): # __init__: method of instance, name = instance variable\n",
    "        self.name = name # instance variable unique to each instance \n",
    "        Dog.kind = 'puppy' # if you want to update value of class var. when you generate on instance"
   ]
  },
  {
   "cell_type": "code",
   "execution_count": 20,
   "metadata": {},
   "outputs": [],
   "source": [
    "e = Dog('Jindo')"
   ]
  },
  {
   "cell_type": "code",
   "execution_count": 21,
   "metadata": {},
   "outputs": [
    {
     "data": {
      "text/plain": [
       "'puppy'"
      ]
     },
     "execution_count": 21,
     "metadata": {},
     "output_type": "execute_result"
    }
   ],
   "source": [
    "e.kind"
   ]
  },
  {
   "cell_type": "code",
   "execution_count": 22,
   "metadata": {},
   "outputs": [],
   "source": [
    "class Car:\n",
    "    instance_count=0 # initialize class variable \n",
    "    \n",
    "    def __init__(self, size, color):\n",
    "        self.size_var = size  # initialize instance variable size_var (value is size)\n",
    "        self.color_var = color  # initialize instance variable color_var (value is color)\n",
    "        Car.instance_count+=1 # Ca.instance_count (class variable) is updated (We can check the number of objects)\n",
    "        print('No. of Car Objects: {}'.format(Car.instance_count))\n",
    "    \n",
    "    def move(self):\n",
    "        print('Car({0}&{1}) is moving.'.format(self.size_var, self.color_var))"
   ]
  },
  {
   "cell_type": "code",
   "execution_count": 23,
   "metadata": {},
   "outputs": [
    {
     "name": "stdout",
     "output_type": "stream",
     "text": [
      "No. of Car Objects: 1\n"
     ]
    }
   ],
   "source": [
    "car1 = Car('small','white') # The first object of Car is generated!!\n",
    "# 'small','white' : value of instance var"
   ]
  },
  {
   "cell_type": "code",
   "execution_count": 24,
   "metadata": {},
   "outputs": [
    {
     "name": "stdout",
     "output_type": "stream",
     "text": [
      "No. of Car Objects: 2\n"
     ]
    }
   ],
   "source": [
    "car2 = Car('big','black')# The second object of Car is generated!!"
   ]
  },
  {
   "cell_type": "code",
   "execution_count": 25,
   "metadata": {},
   "outputs": [
    {
     "data": {
      "text/plain": [
       "2"
      ]
     },
     "execution_count": 25,
     "metadata": {},
     "output_type": "execute_result"
    }
   ],
   "source": [
    "Car.instance_count # Return the value of class variable (class_name.class_var)"
   ]
  },
  {
   "cell_type": "code",
   "execution_count": 26,
   "metadata": {},
   "outputs": [
    {
     "data": {
      "text/plain": [
       "2"
      ]
     },
     "execution_count": 26,
     "metadata": {},
     "output_type": "execute_result"
    }
   ],
   "source": [
    "car1.instance_count# Return the value of class variable (instance_name.class_var)"
   ]
  },
  {
   "cell_type": "code",
   "execution_count": 31,
   "metadata": {},
   "outputs": [],
   "source": [
    "class Car2:\n",
    "    count=0 # name of the class var \n",
    "    \n",
    "    def __init__(self, size,num):\n",
    "        self.size_var = size # self parameter.instance var\n",
    "        self.count=num # name of the instance var\n",
    "        Car2.count+=1\n",
    "        print('value of class variable: {}.'.format(Car2.count))\n",
    "        print('value of instance varible: {}.'.format(self.count))\n",
    "    \n",
    "    def move(self):\n",
    "        print('Car {0}&{1} is moving'.format(self.size_var,self.count))\n",
    "    \n",
    "    # 2 instance method "
   ]
  },
  {
   "cell_type": "code",
   "execution_count": 32,
   "metadata": {},
   "outputs": [
    {
     "name": "stdout",
     "output_type": "stream",
     "text": [
      "value of class variable: 1.\n",
      "value of instance varible: 20.\n"
     ]
    }
   ],
   "source": [
    "car3=Car2('big',20)"
   ]
  },
  {
   "cell_type": "code",
   "execution_count": 33,
   "metadata": {},
   "outputs": [
    {
     "name": "stdout",
     "output_type": "stream",
     "text": [
      "Car big&20 is moving\n"
     ]
    }
   ],
   "source": [
    "car3.move()"
   ]
  },
  {
   "cell_type": "markdown",
   "metadata": {},
   "source": [
    "## instance method (function)"
   ]
  },
  {
   "cell_type": "code",
   "execution_count": 28,
   "metadata": {},
   "outputs": [
    {
     "name": "stdout",
     "output_type": "stream",
     "text": [
      "Car(small&white) is moving.\n"
     ]
    }
   ],
   "source": [
    "car1.move()"
   ]
  },
  {
   "cell_type": "code",
   "execution_count": 29,
   "metadata": {},
   "outputs": [
    {
     "name": "stdout",
     "output_type": "stream",
     "text": [
      "Car(big&black) is moving.\n"
     ]
    }
   ],
   "source": [
    "car2.move()"
   ]
  },
  {
   "cell_type": "code",
   "execution_count": 30,
   "metadata": {},
   "outputs": [
    {
     "ename": "TypeError",
     "evalue": "move() missing 1 required positional argument: 'self'",
     "output_type": "error",
     "traceback": [
      "\u001b[1;31m---------------------------------------------------------------------------\u001b[0m",
      "\u001b[1;31mTypeError\u001b[0m                                 Traceback (most recent call last)",
      "\u001b[1;32m<ipython-input-30-8e178dad2bba>\u001b[0m in \u001b[0;36m<module>\u001b[1;34m\u001b[0m\n\u001b[1;32m----> 1\u001b[1;33m \u001b[0mCar\u001b[0m\u001b[1;33m.\u001b[0m\u001b[0mmove\u001b[0m\u001b[1;33m(\u001b[0m\u001b[1;33m)\u001b[0m\u001b[1;33m\u001b[0m\u001b[1;33m\u001b[0m\u001b[0m\n\u001b[0m",
      "\u001b[1;31mTypeError\u001b[0m: move() missing 1 required positional argument: 'self'"
     ]
    }
   ],
   "source": [
    "Car.move() #move 함수는 instance 의 함수이다 그래서 오류남 "
   ]
  },
  {
   "cell_type": "code",
   "execution_count": 3,
   "metadata": {},
   "outputs": [],
   "source": [
    "# instance method belongs to a single instance not to a class"
   ]
  },
  {
   "cell_type": "markdown",
   "metadata": {},
   "source": [
    "- instace: what we have learned so far\n",
    "\n",
    "-- next class --\n",
    "- static method\n",
    "- class method"
   ]
  },
  {
   "cell_type": "markdown",
   "metadata": {},
   "source": [
    "- class heritance "
   ]
  },
  {
   "cell_type": "markdown",
   "metadata": {},
   "source": [
    "### Static method "
   ]
  },
  {
   "cell_type": "code",
   "execution_count": 4,
   "metadata": {},
   "outputs": [],
   "source": [
    "# function is bound to class not to instance (object)"
   ]
  },
  {
   "cell_type": "code",
   "execution_count": 6,
   "metadata": {},
   "outputs": [],
   "source": [
    "class Car:\n",
    "    \n",
    "    @staticmethod # the way to initialize a static method\n",
    "    def check_type(model_code): # model_code is the variable of the static method\n",
    "        if (model_code>=20):\n",
    "            print('This car is electronic car.')\n",
    "        elif (10<=model_code<=20):\n",
    "            print('This car is gasoline car.')\n",
    "        else:\n",
    "            print('This car is diesel car.')"
   ]
  },
  {
   "cell_type": "code",
   "execution_count": 7,
   "metadata": {},
   "outputs": [
    {
     "name": "stdout",
     "output_type": "stream",
     "text": [
      "This car is gasoline car.\n"
     ]
    }
   ],
   "source": [
    "Car.check_type(10) # We did not generate an instance. However, we can use the static method..."
   ]
  },
  {
   "cell_type": "code",
   "execution_count": 8,
   "metadata": {},
   "outputs": [],
   "source": [
    "car1=Car()"
   ]
  },
  {
   "cell_type": "code",
   "execution_count": 9,
   "metadata": {},
   "outputs": [
    {
     "name": "stdout",
     "output_type": "stream",
     "text": [
      "This car is gasoline car.\n"
     ]
    }
   ],
   "source": [
    "car1.check_type(10) # After generating an instance, we can also use the static method"
   ]
  },
  {
   "cell_type": "markdown",
   "metadata": {},
   "source": [
    "     The static method is used especially when we provide the time information, foriegn currency\n",
    "     The information is not related to any object..\n",
    "     It has to be provided with no respect to class and instance.."
   ]
  },
  {
   "cell_type": "markdown",
   "metadata": {},
   "source": [
    "### class method"
   ]
  },
  {
   "cell_type": "markdown",
   "metadata": {},
   "source": [
    "    class class_name:\n",
    "        @classmethod # initialize a class method \n",
    "        def method_name(cls, [var_name]):\n",
    "            <code block>"
   ]
  },
  {
   "cell_type": "code",
   "execution_count": 10,
   "metadata": {},
   "outputs": [],
   "source": [
    "class Car: \n",
    "    instance_count=0 # class variable \n",
    "    \n",
    "    def __init__(self, size, color):\n",
    "        self.size_var=size # self is a parameter of instance method\n",
    "        self.color_var=color\n",
    "        Car.instance_count+=1\n",
    "        \n",
    "    @classmethod\n",
    "    def count_instance(cls):\n",
    "        print('# of car objects:{}'.format(cls.instance_count))"
   ]
  },
  {
   "cell_type": "code",
   "execution_count": 12,
   "metadata": {},
   "outputs": [
    {
     "name": "stdout",
     "output_type": "stream",
     "text": [
      "# of car objects:0\n"
     ]
    }
   ],
   "source": [
    "Car.count_instance() # we did not generate any instance.. we did not initialize any instance.."
   ]
  },
  {
   "cell_type": "code",
   "execution_count": 13,
   "metadata": {},
   "outputs": [],
   "source": [
    "car2=Car(10,'black')"
   ]
  },
  {
   "cell_type": "code",
   "execution_count": 14,
   "metadata": {},
   "outputs": [
    {
     "name": "stdout",
     "output_type": "stream",
     "text": [
      "# of car objects:1\n"
     ]
    }
   ],
   "source": [
    "car2.count_instance()"
   ]
  },
  {
   "cell_type": "code",
   "execution_count": 15,
   "metadata": {},
   "outputs": [
    {
     "name": "stdout",
     "output_type": "stream",
     "text": [
      "# of car objects:1\n"
     ]
    }
   ],
   "source": [
    "Car.count_instance()"
   ]
  },
  {
   "cell_type": "markdown",
   "metadata": {},
   "source": [
    "The class method is normally used when we return the number of generated object.."
   ]
  },
  {
   "cell_type": "markdown",
   "metadata": {},
   "source": [
    "### class inheritance"
   ]
  },
  {
   "cell_type": "markdown",
   "metadata": {},
   "source": [
    "class a(parents class): we need to use the class var/method of the class but want to add more var& method\n",
    "-> class b, class c (child class)"
   ]
  },
  {
   "cell_type": "markdown",
   "metadata": {},
   "source": [
    "    class child_class_name(parent_class_name):\n",
    "        <code block>"
   ]
  },
  {
   "cell_type": "code",
   "execution_count": 17,
   "metadata": {},
   "outputs": [],
   "source": [
    "# define a parent class"
   ]
  },
  {
   "cell_type": "code",
   "execution_count": 18,
   "metadata": {},
   "outputs": [],
   "source": [
    "class Bicycle: # parent class\n",
    "    def __init__(my_self,size,color): \n",
    "        # 처음 오브젝트를 생성할 때, 이 size와 color값도 같이 지정을 해줘야 한다. \n",
    "        my_self.size=size\n",
    "        my_self.color=color\n",
    "    def move(my_self,speed): # object.variable of a function\n",
    "        print('Speed of my bicycle: {}'.format(speed))\n",
    "    def turn(my_self,direction):\n",
    "        print('Direction of my bicycle: {}'.format(direction))\n",
    "    def stop(my_self):\n",
    "        print('bicycle: ({0},{1}): stop'.format(my_self.size, my_self.color))"
   ]
  },
  {
   "cell_type": "code",
   "execution_count": 20,
   "metadata": {},
   "outputs": [],
   "source": [
    "class NewBicycle(Bicycle): # child class\n",
    "    \n",
    "    def __init__(self, size, color, price):\n",
    "        Bicycle.__init__(self, size, color) # we can use the properties of the parent class\n",
    "        self.price=price\n",
    "        \n",
    "    def price_bicycle(self): # New method that is added in the child class \n",
    "        print('The bicycle is {}'.format(self.price))"
   ]
  },
  {
   "cell_type": "code",
   "execution_count": 23,
   "metadata": {},
   "outputs": [],
   "source": [
    "new_bicycle1=NewBicycle('big','gray','cheap')"
   ]
  },
  {
   "cell_type": "code",
   "execution_count": 24,
   "metadata": {},
   "outputs": [
    {
     "name": "stdout",
     "output_type": "stream",
     "text": [
      "Speed of my bicycle: fast\n"
     ]
    }
   ],
   "source": [
    "new_bicycle1.move('fast') # the new instance employ the method of the parent class"
   ]
  },
  {
   "cell_type": "code",
   "execution_count": 25,
   "metadata": {},
   "outputs": [
    {
     "name": "stdout",
     "output_type": "stream",
     "text": [
      "The bicycle is cheap\n"
     ]
    }
   ],
   "source": [
    "new_bicycle1.price_bicycle()"
   ]
  },
  {
   "cell_type": "code",
   "execution_count": null,
   "metadata": {},
   "outputs": [],
   "source": []
  }
 ],
 "metadata": {
  "kernelspec": {
   "display_name": "Python 3",
   "language": "python",
   "name": "python3"
  },
  "language_info": {
   "codemirror_mode": {
    "name": "ipython",
    "version": 3
   },
   "file_extension": ".py",
   "mimetype": "text/x-python",
   "name": "python",
   "nbconvert_exporter": "python",
   "pygments_lexer": "ipython3",
   "version": "3.7.7"
  }
 },
 "nbformat": 4,
 "nbformat_minor": 4
}
